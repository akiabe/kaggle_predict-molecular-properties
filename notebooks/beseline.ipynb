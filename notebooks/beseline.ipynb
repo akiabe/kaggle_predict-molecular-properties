{
 "cells": [
  {
   "cell_type": "code",
   "execution_count": 1,
   "metadata": {},
   "outputs": [],
   "source": [
    "import pandas as pd\n",
    "import warnings\n",
    "warnings.filterwarnings(\"ignore\")"
   ]
  },
  {
   "cell_type": "code",
   "execution_count": null,
   "outputs": [],
   "source": [
    "train = pd.read_csv(\"../input/train.csv\")\n",
    "test = pd.read_csv(\"../input/test.csv\")\n",
    "sub = pd.read_csv(\"../input/sample_submission.csv\")\n",
    "structure = pd.read_csv(\"../input/structures.csv\")"
   ],
   "metadata": {
    "collapsed": false,
    "pycharm": {
     "name": "#%%\n"
    }
   }
  },
  {
   "cell_type": "code",
   "execution_count": null,
   "outputs": [],
   "source": [
    "print(train.shape)\n",
    "train.head(3)"
   ],
   "metadata": {
    "collapsed": false,
    "pycharm": {
     "name": "#%%\n"
    }
   }
  },
  {
   "cell_type": "code",
   "execution_count": null,
   "outputs": [],
   "source": [
    "print(len(train[\"type\"].unique()))\n",
    "train[\"type\"].unique()"
   ],
   "metadata": {
    "collapsed": false,
    "pycharm": {
     "name": "#%%\n"
    }
   }
  },
  {
   "cell_type": "code",
   "execution_count": null,
   "outputs": [],
   "source": [
    "train.describe()"
   ],
   "metadata": {
    "collapsed": false,
    "pycharm": {
     "name": "#%%\n"
    }
   }
  },
  {
   "cell_type": "code",
   "execution_count": null,
   "outputs": [],
   "source": [
    "test.head(3)"
   ],
   "metadata": {
    "collapsed": false,
    "pycharm": {
     "name": "#%%\n"
    }
   }
  },
  {
   "cell_type": "code",
   "execution_count": null,
   "outputs": [],
   "source": [
    "print(structure.shape)\n",
    "structure.head(3)"
   ],
   "metadata": {
    "collapsed": false,
    "pycharm": {
     "name": "#%%\n"
    }
   }
  },
  {
   "cell_type": "code",
   "execution_count": null,
   "outputs": [],
   "source": [
    "print(len(structure[\"atom\"].unique()))\n",
    "structure[\"atom\"].unique()"
   ],
   "metadata": {
    "collapsed": false,
    "pycharm": {
     "name": "#%%\n"
    }
   }
  },
  {
   "cell_type": "code",
   "execution_count": null,
   "outputs": [],
   "source": [
    "import seaborn as sns\n",
    "\n",
    "sns.countplot(train[\"atom_index_0\"]);"
   ],
   "metadata": {
    "collapsed": false,
    "pycharm": {
     "name": "#%%\n"
    }
   }
  },
  {
   "cell_type": "code",
   "execution_count": null,
   "outputs": [],
   "source": [
    "sns.countplot(train[\"atom_index_1\"]);"
   ],
   "metadata": {
    "collapsed": false,
    "pycharm": {
     "name": "#%%\n"
    }
   }
  },
  {
   "cell_type": "code",
   "execution_count": null,
   "outputs": [],
   "source": [
    "sns.countplot(train[\"type\"]);"
   ],
   "metadata": {
    "collapsed": false,
    "pycharm": {
     "name": "#%%\n"
    }
   }
  },
  {
   "cell_type": "code",
   "execution_count": null,
   "outputs": [],
   "source": [
    "sns.distplot(train[\"scalar_coupling_constant\"], bins=20);"
   ],
   "metadata": {
    "collapsed": false,
    "pycharm": {
     "name": "#%%\n"
    }
   }
  },
  {
   "cell_type": "code",
   "execution_count": null,
   "outputs": [],
   "source": [
    "sns.violinplot(x=\"type\", y=\"scalar_coupling_constant\", data=train);"
   ],
   "metadata": {
    "collapsed": false,
    "pycharm": {
     "name": "#%%\n"
    }
   }
  },
  {
   "cell_type": "code",
   "execution_count": null,
   "outputs": [],
   "source": [
    "train.head()"
   ],
   "metadata": {
    "collapsed": false,
    "pycharm": {
     "name": "#%%\n"
    }
   }
  },
  {
   "cell_type": "code",
   "execution_count": null,
   "outputs": [],
   "source": [
    "import networkx as nx\n",
    "import matplotlib.pyplot as plt\n",
    "\n",
    "fig, ax = plt.subplots(figsize = (20, 12))\n",
    "for idx, val in enumerate(train[\"type\"].unique()):\n",
    "    train_type = train.loc[train[\"type\"] == val]\n",
    "    G = nx.from_pandas_edgelist(\n",
    "        df=train_type, \n",
    "        source=\"atom_index_0\", \n",
    "        target=\"atom_index_1\", \n",
    "        edge_attr=[\"scalar_coupling_constant\"]\n",
    "    )\n",
    "    \n",
    "    plt.subplot(2, 4, idx+1);\n",
    "    nx.draw(G, with_labels=True);\n",
    "    plt.title(f\"Graph for type {t}\")"
   ],
   "metadata": {
    "collapsed": false,
    "pycharm": {
     "name": "#%%\n"
    }
   }
  },
  {
   "cell_type": "code",
   "execution_count": null,
   "outputs": [],
   "source": [
    "fig, ax = plt.subplots(figsize = (20, 12))\n",
    "for idx, val in enumerate(train[\"type\"].unique()):\n",
    "    train_type = train.loc[train[\"type\"] == val]\n",
    "    \n",
    "    rare_atoms_0 = list(\n",
    "        train_type[\"atom_index_0\"]\n",
    "        .value_counts(normalize=True)\n",
    "        [train_type[\"atom_index_0\"]\n",
    "         .value_counts(normalize=True) < 0.01]\n",
    "        .index\n",
    "    )\n",
    "    \n",
    "    rare_atoms_1 = list(\n",
    "        train_type[\"atom_index_1\"]\n",
    "        .value_counts(normalize=True)\n",
    "        [train_type[\"atom_index_1\"]\n",
    "        .value_counts(normalize=True) < 0.01]\n",
    "        .index\n",
    "    )\n",
    "    \n",
    "    rare_atoms = list(set(rare_atoms_0 + rare_atoms_1))\n",
    "    \n",
    "    train_type = train_type.loc[\n",
    "        (train_type[\"atom_index_0\"].isin(rare_atoms_0) == False) &\n",
    "        (train_type[\"atom_index_1\"].isin(rare_atoms_1) == False)\n",
    "    ]\n",
    "    \n",
    "    G = nx.from_pandas_edgelist(\n",
    "        df=train_type, \n",
    "        source=\"atom_index_0\", \n",
    "        target=\"atom_index_1\", \n",
    "        edge_attr=[\"scalar_coupling_constant\"]\n",
    "    )\n",
    "    \n",
    "    plt.subplot(2, 4, idx+1);\n",
    "    nx.draw(G, with_labels=True);\n",
    "    plt.title(f\"Graph for type {t}\")"
   ],
   "metadata": {
    "collapsed": false,
    "pycharm": {
     "name": "#%%\n"
    }
   }
  },
  {
   "cell_type": "code",
   "execution_count": null,
   "outputs": [],
   "source": [
    "join_atom0_to_train = pd.merge(\n",
    "    train, \n",
    "    structure, \n",
    "    left_on=[\"molecule_name\", \"atom_index_0\"],\n",
    "    right_on=[\"molecule_name\", \"atom_index\"],\n",
    "    how=\"left\",\n",
    ")\n",
    "\n",
    "join_atom0_to_train.head(3)"
   ],
   "metadata": {
    "collapsed": false,
    "pycharm": {
     "name": "#%%\n"
    }
   }
  },
  {
   "cell_type": "code",
   "execution_count": null,
   "outputs": [],
   "source": [
    "join_atom0_to_train.isnull().sum()"
   ],
   "metadata": {
    "collapsed": false,
    "pycharm": {
     "name": "#%%\n"
    }
   }
  },
  {
   "cell_type": "code",
   "execution_count": null,
   "outputs": [],
   "source": [
    "join_atom0_to_train = join_atom0_to_train.drop(\"atom_index\", axis=1)\n",
    "join_atom0_to_train = join_atom0_to_train.rename(\n",
    "    columns={\n",
    "        \"atom\": \"atom_0\",\n",
    "        \"x\": \"x_0\",\n",
    "        \"y\": \"y_0\",\n",
    "        \"z\": \"z_0\",\n",
    "    }\n",
    ")\n",
    "\n",
    "join_atom0_to_train.head(3)"
   ],
   "metadata": {
    "collapsed": false,
    "pycharm": {
     "name": "#%%\n"
    }
   }
  },
  {
   "cell_type": "code",
   "execution_count": null,
   "outputs": [],
   "source": [
    "join_allatom_to_train = pd.merge(\n",
    "    join_atom0_to_train, \n",
    "    structure, \n",
    "    left_on=[\"molecule_name\", \"atom_index_1\"],\n",
    "    right_on=[\"molecule_name\", \"atom_index\"],\n",
    "    how=\"left\",\n",
    ")\n",
    "\n",
    "join_allatom_to_train.head(3)"
   ],
   "metadata": {
    "collapsed": false,
    "pycharm": {
     "name": "#%%\n"
    }
   }
  },
  {
   "cell_type": "code",
   "execution_count": null,
   "outputs": [],
   "source": [
    "join_allatom_to_train.isnull().sum()"
   ],
   "metadata": {
    "collapsed": false,
    "pycharm": {
     "name": "#%%\n"
    }
   }
  },
  {
   "cell_type": "code",
   "execution_count": null,
   "outputs": [],
   "source": [
    "join_allatom_to_train = join_allatom_to_train.drop(\"atom_index\", axis=1)\n",
    "join_allatom_to_train = join_allatom_to_train.rename(\n",
    "    columns={\n",
    "        \"atom\": \"atom_1\",\n",
    "        \"x\": \"x_1\",\n",
    "        \"y\": \"y_1\",\n",
    "        \"z\": \"z_1\",\n",
    "    }\n",
    ")\n",
    "\n",
    "join_allatom_to_train.head(3)"
   ],
   "metadata": {
    "collapsed": false,
    "pycharm": {
     "name": "#%%\n"
    }
   }
  },
  {
   "cell_type": "code",
   "execution_count": null,
   "outputs": [],
   "source": [
    "train_all = join_allatom_to_train"
   ],
   "metadata": {
    "collapsed": false,
    "pycharm": {
     "name": "#%%\n"
    }
   }
  },
  {
   "cell_type": "code",
   "execution_count": null,
   "outputs": [],
   "source": [
    "join_atom0_to_test = pd.merge(\n",
    "    test, \n",
    "    structure, \n",
    "    left_on=[\"molecule_name\", \"atom_index_0\"],\n",
    "    right_on=[\"molecule_name\", \"atom_index\"],\n",
    "    how=\"left\",\n",
    ")\n",
    "\n",
    "join_atom0_to_test.head(3)"
   ],
   "metadata": {
    "collapsed": false,
    "pycharm": {
     "name": "#%%\n"
    }
   }
  },
  {
   "cell_type": "code",
   "execution_count": null,
   "outputs": [],
   "source": [
    "join_atom0_to_test = join_atom0_to_test.drop(\"atom_index\", axis=1)\n",
    "join_atom0_to_test = join_atom0_to_test.rename(\n",
    "    columns={\n",
    "        \"atom\": \"atom_0\",\n",
    "        \"x\": \"x_0\",\n",
    "        \"y\": \"y_0\",\n",
    "        \"z\": \"z_0\",\n",
    "    }\n",
    ")\n",
    "\n",
    "join_atom0_to_test.head(3)"
   ],
   "metadata": {
    "collapsed": false,
    "pycharm": {
     "name": "#%%\n"
    }
   }
  },
  {
   "cell_type": "code",
   "execution_count": null,
   "outputs": [],
   "source": [
    "join_allatom_to_test = pd.merge(\n",
    "    join_atom0_to_test, \n",
    "    structure, \n",
    "    left_on=[\"molecule_name\", \"atom_index_1\"],\n",
    "    right_on=[\"molecule_name\", \"atom_index\"],\n",
    "    how=\"left\",\n",
    ")\n",
    "\n",
    "join_allatom_to_test.head(3)"
   ],
   "metadata": {
    "collapsed": false,
    "pycharm": {
     "name": "#%%\n"
    }
   }
  },
  {
   "cell_type": "code",
   "execution_count": null,
   "outputs": [],
   "source": [
    "join_allatom_to_test = join_allatom_to_test.drop(\"atom_index\", axis=1)\n",
    "join_allatom_to_test = join_allatom_to_test.rename(\n",
    "    columns={\n",
    "        \"atom\": \"atom_1\",\n",
    "        \"x\": \"x_1\",\n",
    "        \"y\": \"y_1\",\n",
    "        \"z\": \"z_1\",\n",
    "    }\n",
    ")\n",
    "\n",
    "join_allatom_to_test.head(3)"
   ],
   "metadata": {
    "collapsed": false,
    "pycharm": {
     "name": "#%%\n"
    }
   }
  },
  {
   "cell_type": "code",
   "execution_count": null,
   "outputs": [],
   "source": [],
   "metadata": {
    "collapsed": false,
    "pycharm": {
     "name": "#%%\n"
    }
   }
  },
  {
   "cell_type": "code",
   "execution_count": null,
   "outputs": [],
   "source": [],
   "metadata": {
    "collapsed": false,
    "pycharm": {
     "name": "#%%\n"
    }
   }
  },
  {
   "cell_type": "code",
   "execution_count": null,
   "outputs": [],
   "source": [],
   "metadata": {
    "collapsed": false,
    "pycharm": {
     "name": "#%%\n"
    }
   }
  },
  {
   "cell_type": "code",
   "execution_count": null,
   "outputs": [],
   "source": [],
   "metadata": {
    "collapsed": false,
    "pycharm": {
     "name": "#%%\n"
    }
   }
  },
  {
   "cell_type": "code",
   "execution_count": null,
   "outputs": [],
   "source": [],
   "metadata": {
    "collapsed": false,
    "pycharm": {
     "name": "#%%\n"
    }
   }
  },
  {
   "cell_type": "code",
   "execution_count": 5,
   "metadata": {
    "pycharm": {
     "name": "#%%\n"
    }
   },
   "outputs": [],
   "source": []
  },
  {
   "cell_type": "code",
   "execution_count": null,
   "metadata": {},
   "outputs": [],
   "source": []
  }
 ],
 "metadata": {
  "kernelspec": {
   "display_name": "Python 3",
   "language": "python",
   "name": "python3"
  },
  "language_info": {
   "codemirror_mode": {
    "name": "ipython",
    "version": 3
   },
   "file_extension": ".py",
   "mimetype": "text/x-python",
   "name": "python",
   "nbconvert_exporter": "python",
   "pygments_lexer": "ipython3",
   "version": "3.8.3"
  }
 },
 "nbformat": 4,
 "nbformat_minor": 1
}