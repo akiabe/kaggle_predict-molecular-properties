{
 "cells": [
  {
   "cell_type": "code",
   "execution_count": null,
   "outputs": [],
   "source": [
    "import pandas as pd\n",
    "\n",
    "import warnings\n",
    "warnings.filterwarnings(\"ignore\")"
   ],
   "metadata": {
    "collapsed": false,
    "pycharm": {
     "name": "#%%\n"
    }
   }
  },
  {
   "cell_type": "code",
   "execution_count": null,
   "outputs": [],
   "source": [
    "train = pd.read_csv(\"../input/train.csv\")\n",
    "test = pd.read_csv(\"../input/test.csv\")\n",
    "sub = pd.read_csv(\"../input/sample_submission.csv\")\n",
    "structure = pd.read_csv(\"../input/structures.csv\")"
   ],
   "metadata": {
    "collapsed": false,
    "pycharm": {
     "name": "#%%\n"
    }
   }
  },
  {
   "cell_type": "code",
   "execution_count": null,
   "outputs": [],
   "source": [
    "train.head(3)"
   ],
   "metadata": {
    "collapsed": false,
    "pycharm": {
     "name": "#%%\n"
    }
   }
  },
  {
   "cell_type": "code",
   "execution_count": null,
   "outputs": [],
   "source": [
    "test.head(3)"
   ],
   "metadata": {
    "collapsed": false,
    "pycharm": {
     "name": "#%%\n"
    }
   }
  },
  {
   "cell_type": "code",
   "execution_count": null,
   "outputs": [],
   "source": [
    "structure.head(3)"
   ],
   "metadata": {
    "collapsed": false,
    "pycharm": {
     "name": "#%%\n"
    }
   }
  },
  {
   "cell_type": "code",
   "execution_count": null,
   "outputs": [],
   "source": [
    "train_atom0 = pd.merge(\n",
    "    train, \n",
    "    structure,\n",
    "    left_on=[\"molecule_name\", \"atom_index_0\"],\n",
    "    right_on=[\"molecule_name\", \"atom_index\"],\n",
    "    how=\"left\"\n",
    ")\n",
    "\n",
    "train_atom0.head(3)"
   ],
   "metadata": {
    "collapsed": false,
    "pycharm": {
     "name": "#%%\n"
    }
   }
  },
  {
   "cell_type": "code",
   "execution_count": null,
   "outputs": [],
   "source": [
    "train_atom0 = train_atom0.drop(\"atom_index\", axis=1)\n",
    "train_atom0 = train_atom0.rename(\n",
    "    columns={\n",
    "        \"atom\": \"atom_0\",\n",
    "        \"x\": \"x_0\",\n",
    "        \"y\": \"y_0\",\n",
    "        \"z\": \"z_0\",\n",
    "    }\n",
    ")\n",
    "\n",
    "train_atom0.head(3)"
   ],
   "metadata": {
    "collapsed": false,
    "pycharm": {
     "name": "#%%\n"
    }
   }
  },
  {
   "cell_type": "code",
   "execution_count": null,
   "outputs": [],
   "source": [
    "train_atom0_atom1 = pd.merge(\n",
    "    train_atom0, \n",
    "    structure,\n",
    "    left_on=[\"molecule_name\", \"atom_index_1\"],\n",
    "    right_on=[\"molecule_name\", \"atom_index\"],\n",
    "    how=\"left\"\n",
    ")\n",
    "\n",
    "train_atom0_atom1.head(3)"
   ],
   "metadata": {
    "collapsed": false,
    "pycharm": {
     "name": "#%%\n"
    }
   }
  },
  {
   "cell_type": "code",
   "execution_count": null,
   "outputs": [],
   "source": [
    "train_atom0_atom1 = train_atom0_atom1.drop(\"atom_index\", axis=1)\n",
    "train_atom0_atom1 = train_atom0_atom1.rename(\n",
    "    columns={\n",
    "        \"atom\": \"atom_1\",\n",
    "        \"x\": \"x_1\",\n",
    "        \"y\": \"y_1\",\n",
    "        \"z\": \"z_1\",\n",
    "    }\n",
    ")\n",
    "\n",
    "train_atom0_atom1.head(3)"
   ],
   "metadata": {
    "collapsed": false,
    "pycharm": {
     "name": "#%%\n"
    }
   }
  },
  {
   "cell_type": "code",
   "execution_count": null,
   "outputs": [],
   "source": [
    "train = train_atom0_atom1"
   ],
   "metadata": {
    "collapsed": false,
    "pycharm": {
     "name": "#%%\n"
    }
   }
  },
  {
   "cell_type": "code",
   "execution_count": null,
   "outputs": [],
   "source": [
    "test_atom0 = pd.merge(\n",
    "    test, \n",
    "    structure,\n",
    "    left_on=[\"molecule_name\", \"atom_index_0\"],\n",
    "    right_on=[\"molecule_name\", \"atom_index\"],\n",
    "    how=\"left\"\n",
    ")\n",
    "\n",
    "test_atom0.head(3)"
   ],
   "metadata": {
    "collapsed": false,
    "pycharm": {
     "name": "#%%\n"
    }
   }
  },
  {
   "cell_type": "code",
   "execution_count": null,
   "outputs": [],
   "source": [
    "test_atom0 = test_atom0.drop(\"atom_index\", axis=1)\n",
    "test_atom0 = test_atom0.rename(\n",
    "    columns={\n",
    "        \"atom\": \"atom_0\",\n",
    "        \"x\": \"x_0\",\n",
    "        \"y\": \"y_0\",\n",
    "        \"z\": \"z_0\",\n",
    "    }\n",
    ")\n",
    "\n",
    "test_atom0.head(3)"
   ],
   "metadata": {
    "collapsed": false,
    "pycharm": {
     "name": "#%%\n"
    }
   }
  },
  {
   "cell_type": "code",
   "execution_count": null,
   "outputs": [],
   "source": [
    "test_atom0_atom1 = pd.merge(\n",
    "    test_atom0, \n",
    "    structure,\n",
    "    left_on=[\"molecule_name\", \"atom_index_1\"],\n",
    "    right_on=[\"molecule_name\", \"atom_index\"],\n",
    "    how=\"left\"\n",
    ")\n",
    "\n",
    "test_atom0_atom1.head(3)"
   ],
   "metadata": {
    "collapsed": false,
    "pycharm": {
     "name": "#%%\n"
    }
   }
  },
  {
   "cell_type": "code",
   "execution_count": null,
   "outputs": [],
   "source": [
    "test_atom0_atom1 = test_atom0_atom1.drop(\"atom_index\", axis=1)\n",
    "test_atom0_atom1 = test_atom0_atom1.rename(\n",
    "    columns={\n",
    "        \"atom\": \"atom_1\",\n",
    "        \"x\": \"x_1\",\n",
    "        \"y\": \"y_1\",\n",
    "        \"z\": \"z_1\",\n",
    "    }\n",
    ")\n",
    "\n",
    "test_atom0_atom1.head(3)"
   ],
   "metadata": {
    "collapsed": false,
    "pycharm": {
     "name": "#%%\n"
    }
   }
  },
  {
   "cell_type": "code",
   "execution_count": null,
   "outputs": [],
   "source": [
    "test = test_atom0_atom1"
   ],
   "metadata": {
    "collapsed": false,
    "pycharm": {
     "name": "#%%\n"
    }
   }
  },
  {
   "cell_type": "code",
   "execution_count": null,
   "outputs": [],
   "source": [
    "import numpy as np\n",
    "\n",
    "train_p_0 = train[[\"x_0\", \"y_0\", \"z_0\"]].values\n",
    "train_p_1 = train[[\"x_1\", \"y_1\", \"z_1\"]].values\n",
    "test_p_0 = test[[\"x_0\", \"y_0\", \"z_0\"]].values\n",
    "test_p_1 = test[[\"x_1\", \"y_1\", \"z_1\"]].values\n",
    "\n",
    "train[\"dist\"] = np.linalg.norm(train_p_0 - train_p_1, axis=1)\n",
    "train[\"dist_x\"] = np.square(train[\"x_0\"] - train[\"x_1\"])\n",
    "train[\"dist_y\"] = np.square(train[\"y_0\"] - train[\"y_1\"])\n",
    "train[\"dist_z\"] = np.square(train[\"z_0\"] - train[\"z_1\"])\n",
    "\n",
    "test[\"dist\"] = np.linalg.norm(test_p_0 - test_p_1, axis=1)\n",
    "test[\"dist_x\"] = np.square(test[\"x_0\"] - test[\"x_1\"])\n",
    "test[\"dist_y\"] = np.square(test[\"y_0\"] - test[\"y_1\"])\n",
    "test[\"dist_z\"] = np.square(test[\"z_0\"] - test[\"z_1\"])\n"
   ],
   "metadata": {
    "collapsed": false,
    "pycharm": {
     "name": "#%%\n"
    }
   }
  },
  {
   "cell_type": "code",
   "execution_count": null,
   "outputs": [],
   "source": [
    "train.head(3)"
   ],
   "metadata": {
    "collapsed": false,
    "pycharm": {
     "name": "#%%\n"
    }
   }
  },
  {
   "cell_type": "code",
   "execution_count": null,
   "outputs": [],
   "source": [
    "train[\"type_0\"] = train[\"type\"].apply(lambda x: x[0])\n",
    "test[\"type_0\"] = test[\"type\"].apply(lambda x: x[0])"
   ],
   "metadata": {
    "collapsed": false,
    "pycharm": {
     "name": "#%%\n"
    }
   }
  },
  {
   "cell_type": "code",
   "execution_count": null,
   "outputs": [],
   "source": [
    "from tqdm import tqdm_notebook\n",
    "\n",
    "def create_features(df):\n",
    "    df[\"molecule_couples\"] = df.groupby(\"molecule_name\")[\"id\"].transform(\"count\")\n",
    "    \n",
    "    df[\"molecule_dist_mean\"] = df.groupby(\"molecule_name\")[\"dist\"].transform(\"mean\")\n",
    "    df[\"molecule_dist_min\"] = df.groupby(\"molecule_name\")[\"dist\"].transform(\"min\")\n",
    "    df[\"molecule_dist_max\"] = df.groupby(\"molecule_name\")[\"dist\"].transform(\"max\")\n",
    "    df[\"molecule_dist_std\"] = df.groupby(\"molecule_name\")[\"dist\"].transform(\"std\")\n",
    "    \n",
    "    df[\"atom_0_couples\"] = df.groupby([\"molecule_name\", \"atom_index_0\"])[\"id\"].transform(\"count\")\n",
    "    df[\"atom_1_couples\"] = df.groupby([\"molecule_name\", \"atom_index_1\"])[\"id\"].transform(\"count\")\n",
    "    \n",
    "    categorical_columns = [\"atom_index_0\", \"atom_index_1\", \"type\", \"type_0\", \"atom_0\", \"atom_1\"]\n",
    "    numerical_columns = [\"x_0\", \"y_0\", \"z_0\", \"x_1\", \"y_1\", \"z_1\", \"dist\", \"dist_x\", \"dist_y\", \"dist_z\"]\n",
    "    stat_values = [\"mean\", \"min\", \"max\", \"std\"]\n",
    "    \n",
    "    for column in categorical_columns:\n",
    "        df[f\"molecule_{column}_count\"] = df.groupby(\"molecule_name\")[column].transform(\"count\")\n",
    "    \n",
    "    for categorical_column in tqdm_notebook(categorical_columns):\n",
    "        for numerical_column in numerical_columns:\n",
    "            for stat_value in stat_values:\n",
    "                df[f\"molecule_{categorical_column}_{numerical_column}_{stat_value}\"] = df.groupby([\"molecule_name\", categorical_column])[numerical_column].transform(stat_value)\n",
    "                df[f\"molecule_{categorical_column}_{numerical_column}_{stat_value}_diff\"] = df[f\"molecule_{categorical_column}_{numerical_column}_{stat_value}\"] - df[numerical_column]\n",
    "                df[f\"molecule_{categorical_column}_{numerical_column}_{stat_value}_div\"] = df[f\"molecule_{categorical_column}_{numerical_column}_{stat_value}\"] / df[numerical_column]\n",
    "    \n",
    "    return df\n",
    "    "
   ],
   "metadata": {
    "collapsed": false,
    "pycharm": {
     "name": "#%%\n"
    }
   }
  },
  {
   "cell_type": "code",
   "execution_count": null,
   "outputs": [],
   "source": [
    "train = create_features(train)"
   ],
   "metadata": {
    "collapsed": false,
    "pycharm": {
     "name": "#%%\n"
    }
   }
  },
  {
   "cell_type": "code",
   "execution_count": null,
   "outputs": [],
   "source": [
    "test = create_features(test)"
   ],
   "metadata": {
    "collapsed": false,
    "pycharm": {
     "name": "#%%\n"
    }
   }
  },
  {
   "cell_type": "code",
   "execution_count": null,
   "outputs": [],
   "source": [
    "train.to_csv(\"../input/bf_train.csv\", index=False)\n",
    "test.to_csv(\"../input/bf_test.csv\", index=False)"
   ],
   "metadata": {
    "collapsed": false,
    "pycharm": {
     "name": "#%%\n"
    }
   }
  },
  {
   "cell_type": "code",
   "execution_count": null,
   "outputs": [],
   "source": [
    "featColumns = [\n",
    "    \"molecule_atom_index_0_dist_min\",\n",
    "    \"molecule_atom_index_0_dist_max\",\n",
    "    \"molecule_atom_index_1_dist_min\",\n",
    "    \"molecule_atom_index_0_dist_mean\",\n",
    "    \"molecule_atom_index_0_dist_std\",\n",
    "    \"dist\",\n",
    "    \"molecule_atom_index_1_dist_std\",\n",
    "    \"molecule_atom_index_1_dist_max\",\n",
    "    \"molecule_atom_index_1_dist_mean\",\n",
    "    \"molecule_atom_index_0_dist_max_diff\",\n",
    "    \"molecule_atom_index_0_dist_max_div\",\n",
    "    \"molecule_atom_index_0_dist_std_diff\",\n",
    "    \"molecule_atom_index_0_dist_std_div\",\n",
    "    \"atom_0_couples_count\",\n",
    "    \"molecule_atom_index_0_dist_min_div\",\n",
    "    \"molecule_atom_index_1_dist_std_diff\",\n",
    "    \"molecule_atom_index_0_dist_mean_div\",\n",
    "    \"atom_1_couples_count\",\n",
    "    \"molecule_atom_index_0_dist_mean_diff\",\n",
    "    \"molecule_couples\",\n",
    "    \"atom_index_1\",\n",
    "    \"molecule_dist_mean\",\n",
    "    \"molecule_atom_index_1_dist_max_diff\",\n",
    "    \"molecule_atom_index_0_y_1_std\",\n",
    "    \"molecule_atom_index_1_dist_mean_diff\",\n",
    "    \"molecule_atom_index_1_dist_std_div\",\n",
    "    \"molecule_atom_index_1_dist_mean_div\",\n",
    "    \"molecule_atom_index_1_dist_min_diff\",\n",
    "    \"molecule_atom_index_1_dist_min_div\",\n",
    "    \"molecule_atom_index_1_dist_max_div\",\n",
    "    \"molecule_atom_index_0_z_1_std\",\n",
    "    \"y_0\",\n",
    "    \"molecule_type_dist_std_diff\",\n",
    "    \"molecule_atom_1_dist_min_diff\",\n",
    "    \"molecule_atom_index_0_x_1_std\",\n",
    "    \"molecule_dist_min\",\n",
    "    \"molecule_atom_index_0_dist_min_diff\",\n",
    "    \"molecule_atom_index_0_y_1_mean_diff\",\n",
    "    \"molecule_type_dist_min\",\n",
    "    \"molecule_atom_1_dist_min_div\",\n",
    "    \"atom_index_0\",\n",
    "    \"molecule_dist_max\",\n",
    "    \"molecule_atom_1_dist_std_diff\",\n",
    "    \"molecule_type_dist_max\",\n",
    "    \"molecule_atom_index_0_y_1_max_diff\",\n",
    "    \"molecule_type_0_dist_std_diff\",\n",
    "    \"molecule_type_dist_mean_diff\",\n",
    "    \"molecule_atom_1_dist_mean\",\n",
    "    \"molecule_atom_index_0_y_1_mean_div\",\n",
    "    \"molecule_type_dist_mean_div\",\n",
    "    \"type\",\n",
    "]"
   ],
   "metadata": {
    "collapsed": false,
    "pycharm": {
     "name": "#%%\n"
    }
   }
  },
  {
   "cell_type": "code",
   "execution_count": null,
   "outputs": [],
   "source": [
    "import seaborn as sns\n",
    "\n",
    "for idx, val in enumerate(train[\"type\"].unique()):\n",
    "    sns.scatterplot(\n",
    "        data=train, \n",
    "        x=train.loc[train[\"type\"] == val, featColumns[0]], \n",
    "        y=train.loc[train[\"type\"] == val, \"scalar_coupling_constant\"],\n",
    "    )"
   ],
   "metadata": {
    "collapsed": false,
    "pycharm": {
     "name": "#%%\n"
    }
   }
  },
  {
   "cell_type": "code",
   "execution_count": null,
   "outputs": [],
   "source": [],
   "metadata": {
    "collapsed": false,
    "pycharm": {
     "name": "#%%\n"
    }
   }
  },
  {
   "cell_type": "code",
   "execution_count": null,
   "outputs": [],
   "source": [],
   "metadata": {
    "collapsed": false,
    "pycharm": {
     "name": "#%%\n"
    }
   }
  },
  {
   "cell_type": "code",
   "execution_count": null,
   "outputs": [],
   "source": [],
   "metadata": {
    "collapsed": false,
    "pycharm": {
     "name": "#%%\n"
    }
   }
  }
 ],
 "metadata": {
  "kernelspec": {
   "display_name": "Python 3",
   "language": "python",
   "name": "python3"
  },
  "language_info": {
   "codemirror_mode": {
    "name": "ipython",
    "version": 3
   },
   "file_extension": ".py",
   "mimetype": "text/x-python",
   "name": "python",
   "nbconvert_exporter": "python",
   "pygments_lexer": "ipython3",
   "version": "3.8.3"
  }
 },
 "nbformat": 4,
 "nbformat_minor": 1
}